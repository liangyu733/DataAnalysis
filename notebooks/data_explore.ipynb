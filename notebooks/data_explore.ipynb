{
 "cells": [
  {
   "cell_type": "code",
   "execution_count": null,
   "id": "eea587df",
   "metadata": {},
   "outputs": [
    {
     "name": "stdout",
     "output_type": "stream",
     "text": [
      "Import successfully; nrow = 954, ncol = 7.\n",
      "\n",
      " Summary:\n",
      "<class 'datloader.Data'>\n",
      "RangeIndex: 954 entries, 0 to 953\n",
      "Data columns (total 7 columns):\n",
      " #   Column                      Non-Null Count  Dtype   \n",
      "---  ------                      --------------  -----   \n",
      " 0   Age                         954 non-null    int64   \n",
      " 1   FrequentFlyer               954 non-null    category\n",
      " 2   AnnualIncomeClass           954 non-null    category\n",
      " 3   ServicesOpted               954 non-null    int64   \n",
      " 4   AccountSyncedToSocialMedia  954 non-null    category\n",
      " 5   BookedHotelOrNot            954 non-null    category\n",
      " 6   Target                      954 non-null    int64   \n",
      "dtypes: category(4), int64(3)\n",
      "memory usage: 26.7 KB\n",
      "None\n",
      "\n",
      " NA:\n",
      "Age                           0\n",
      "FrequentFlyer                 0\n",
      "AnnualIncomeClass             0\n",
      "ServicesOpted                 0\n",
      "AccountSyncedToSocialMedia    0\n",
      "BookedHotelOrNot              0\n",
      "Target                        0\n",
      "dtype: int64\n"
     ]
    }
   ],
   "source": []
  },
  {
   "cell_type": "code",
   "execution_count": null,
   "id": "804cfea7",
   "metadata": {},
   "outputs": [
    {
     "name": "stdout",
     "output_type": "stream",
     "text": [
      "Target\n",
      "<class 'pandas.core.series.Series'>\n",
      "Optimization terminated successfully.\n",
      "         Current function value: 0.399868\n",
      "         Iterations 7\n",
      "                           Logit Regression Results                           \n",
      "==============================================================================\n",
      "Dep. Variable:                      y   No. Observations:                  954\n",
      "Model:                          Logit   Df Residuals:                      945\n",
      "Method:                           MLE   Df Model:                            8\n",
      "Date:                Mon, 28 Jul 2025   Pseudo R-squ.:                  0.2663\n",
      "Time:                        13:18:02   Log-Likelihood:                -381.47\n",
      "converged:                       True   LL-Null:                       -519.94\n",
      "Covariance Type:            nonrobust   LLR p-value:                 3.306e-55\n",
      "===================================================================================================\n",
      "                                      coef    std err          z      P>|z|      [0.025      0.975]\n",
      "---------------------------------------------------------------------------------------------------\n",
      "const                               2.1216      0.929      2.283      0.022       0.300       3.943\n",
      "Age                                -0.1311      0.029     -4.478      0.000      -0.188      -0.074\n",
      "ServicesOpted                       0.3536      0.061      5.773      0.000       0.234       0.474\n",
      "FrequentFlyer_No Record             0.1063      0.421      0.252      0.801      -0.719       0.932\n",
      "FrequentFlyer_Yes                   1.6925      0.275      6.152      0.000       1.153       2.232\n",
      "AnnualIncomeClass_Low Income       -0.5425      0.268     -2.023      0.043      -1.068      -0.017\n",
      "AnnualIncomeClass_Middle Income    -1.6541      0.378     -4.377      0.000      -2.395      -0.913\n",
      "AccountSyncedToSocialMedia_Yes      0.7907      0.200      3.949      0.000       0.398       1.183\n",
      "BookedHotelOrNot_Yes               -0.8557      0.218     -3.919      0.000      -1.284      -0.428\n",
      "===================================================================================================\n"
     ]
    },
    {
     "data": {
      "text/plain": [
       "<statsmodels.discrete.discrete_model.BinaryResultsWrapper at 0x11476fc40>"
      ]
     },
     "execution_count": 126,
     "metadata": {},
     "output_type": "execute_result"
    }
   ],
   "source": [
    "import sys\n",
    "sys.path.append('../src')\n",
    "import datloader as dl\n",
    "import importlib\n",
    "importlib.reload(dl)\n",
    "df = dl.Data('../data/Customertravel.csv', impute = False)\n",
    "# df.summary()\n",
    "df.explain(response = \"Target\", resp_type = \"categorical\")"
   ]
  },
  {
   "cell_type": "markdown",
   "id": "e565460c",
   "metadata": {},
   "source": [
    "Test Cell for datloader.impute()"
   ]
  },
  {
   "cell_type": "code",
   "execution_count": 53,
   "id": "d196e245",
   "metadata": {},
   "outputs": [
    {
     "name": "stdout",
     "output_type": "stream",
     "text": [
      "   Age FrequentFlyer AnnualIncomeClass  ServicesOpted  \\\n",
      "0   34            No     Middle Income              6   \n",
      "\n",
      "  AccountSyncedToSocialMedia BookedHotelOrNot  Target  \n",
      "0                         No              Yes       0  \n",
      "   Age FrequentFlyer AnnualIncomeClass  ServicesOpted  \\\n",
      "0   34            No     Middle Income              6   \n",
      "\n",
      "  AccountSyncedToSocialMedia BookedHotelOrNot  Target  \n",
      "0                         No              Yes    <NA>  \n",
      "   Age FrequentFlyer AnnualIncomeClass  ServicesOpted  \\\n",
      "0   34            No     Middle Income              6   \n",
      "\n",
      "  AccountSyncedToSocialMedia BookedHotelOrNot  Target  \n",
      "0                         No              Yes       0  \n"
     ]
    }
   ],
   "source": [
    "test = dl.Data.from_DataFrame(df.copy())\n",
    "print(test.head(1))\n",
    "test.loc[0, \"Target\"] = None\n",
    "print(test.head(1))\n",
    "test = test.impute()\n",
    "print(test.head(1))"
   ]
  },
  {
   "cell_type": "code",
   "execution_count": 54,
   "id": "11e155ed",
   "metadata": {},
   "outputs": [
    {
     "name": "stdout",
     "output_type": "stream",
     "text": [
      "   Age FrequentFlyer AnnualIncomeClass  ServicesOpted  \\\n",
      "0   34            No     Middle Income              6   \n",
      "\n",
      "  AccountSyncedToSocialMedia BookedHotelOrNot  Target  \n",
      "0                         No              Yes       0  \n",
      "\n",
      "\n",
      "\n",
      "   Age  ServicesOpted  FrequentFlyer_No  FrequentFlyer_No Record  \\\n",
      "0   34              6                 1                        0   \n",
      "\n",
      "   FrequentFlyer_Yes  AnnualIncomeClass_High Income  \\\n",
      "0                  0                              0   \n",
      "\n",
      "   AnnualIncomeClass_Low Income  AnnualIncomeClass_Middle Income  \\\n",
      "0                             0                                1   \n",
      "\n",
      "   AccountSyncedToSocialMedia_No  AccountSyncedToSocialMedia_Yes  \\\n",
      "0                              1                               0   \n",
      "\n",
      "   BookedHotelOrNot_No  BookedHotelOrNot_Yes  \n",
      "0                    0                     1  \n"
     ]
    }
   ],
   "source": [
    "response = 'Target'\n",
    "test = df.drop(response, axis = 1)\n",
    "print(df.head(1))\n",
    "print('\\n\\n')\n",
    "import pandas as pd\n",
    "test = pd.get_dummies(test)\n",
    "test = dl.Data.from_DataFrame(test)\n",
    "print(test.head(1))"
   ]
  },
  {
   "cell_type": "code",
   "execution_count": 55,
   "id": "5f855230",
   "metadata": {},
   "outputs": [
    {
     "data": {
      "text/plain": [
       "datloader.Data"
      ]
     },
     "execution_count": 55,
     "metadata": {},
     "output_type": "execute_result"
    }
   ],
   "source": [
    "test = df.copy()\n",
    "type(test)\n",
    "type(df)"
   ]
  }
 ],
 "metadata": {
  "kernelspec": {
   "display_name": "venv",
   "language": "python",
   "name": "python3"
  },
  "language_info": {
   "codemirror_mode": {
    "name": "ipython",
    "version": 3
   },
   "file_extension": ".py",
   "mimetype": "text/x-python",
   "name": "python",
   "nbconvert_exporter": "python",
   "pygments_lexer": "ipython3",
   "version": "3.10.18"
  }
 },
 "nbformat": 4,
 "nbformat_minor": 5
}
